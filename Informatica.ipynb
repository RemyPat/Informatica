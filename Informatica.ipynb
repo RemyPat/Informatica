{
 "cells": [
  {
   "cell_type": "code",
   "execution_count": 6,
   "metadata": {},
   "outputs": [],
   "source": [
    "import requests\n",
    "\n",
    "# Function to log in to the Informatica platform\n",
    "\n",
    "def log_in(username_password):\n",
    "    # URL for the login API request\n",
    "    url = \"https://dm-em.informaticacloud.com/saas/public/core/v3/login\"\n",
    "\n",
    "    # Data containing the username and password\n",
    "    data = username_password\n",
    "\n",
    "    # Headers \n",
    "    headers = {\n",
    "        \"Content-Type\": \"application/json\",\n",
    "        \"Accept\": \"application/json\"\n",
    "    }\n",
    "\n",
    "    # Sending POST request to the login API\n",
    "    response = requests.post(url, json=data, headers=headers)\n",
    "\n",
    "    # Check if login was successful\n",
    "    if response.status_code == 200:\n",
    "        print(\"POST request successful!\")\n",
    "        return response.json()\n",
    "    else:\n",
    "        print(\"POST request failed.\")\n",
    "\n",
    "   \n"
   ]
  },
  {
   "cell_type": "code",
   "execution_count": 7,
   "metadata": {},
   "outputs": [],
   "source": [
    "# Credentials for the login (replace with actual credentials)\n",
    "credentials={\n",
    "        \"username\": \"username\",\n",
    "        \"password\": \"password\"\n",
    "    }\n"
   ]
  },
  {
   "cell_type": "code",
   "execution_count": 8,
   "metadata": {},
   "outputs": [
    {
     "name": "stdout",
     "output_type": "stream",
     "text": [
      "POST request successful!\n"
     ]
    }
   ],
   "source": [
    "# Log in to get session information\n",
    "response=log_in(credentials)\n"
   ]
  },
  {
   "cell_type": "code",
   "execution_count": 9,
   "metadata": {},
   "outputs": [
    {
     "name": "stdout",
     "output_type": "stream",
     "text": [
      "{'products': [{'name': 'Integration Cloud', 'baseApiUrl': 'https://emw1.dm-em.informaticacloud.com/saas'}], 'userInfo': {'sessionId': '2W3MZzgQ6hBb9HoAMhpfMx', 'id': '0RIR9yAlAI0d0PknTAWWM7', 'name': 'remy_partrivk', 'parentOrgId': '52ZSTB0IDK6dXxaEQLUaQu', 'orgId': 'jJJYmnncw6YgN1qEjYzLka', 'orgName': 'Informatica-GCS-EMW1-prod', 'groups': {'Test_grp_Remy2': '0RvGPxg9cZUkYKa40mnXiC'}, 'status': 'Active'}}\n"
     ]
    }
   ],
   "source": [
    "print(response)\n"
   ]
  },
  {
   "cell_type": "code",
   "execution_count": 10,
   "metadata": {},
   "outputs": [
    {
     "name": "stdout",
     "output_type": "stream",
     "text": [
      "https://emw1.dm-em.informaticacloud.com/saas\n"
     ]
    }
   ],
   "source": [
    "# Extract base API URL from the login response\n",
    "base_API_Url=response[\"products\"][0][\"baseApiUrl\"]\n",
    "print(base_API_Url)"
   ]
  },
  {
   "cell_type": "code",
   "execution_count": 11,
   "metadata": {},
   "outputs": [
    {
     "name": "stdout",
     "output_type": "stream",
     "text": [
      "2W3MZzgQ6hBb9HoAMhpfMx\n"
     ]
    }
   ],
   "source": [
    "# Extract session ID from the login response\n",
    "session_id=response[\"userInfo\"][\"sessionId\"]\n",
    "print(session_id)"
   ]
  },
  {
   "cell_type": "code",
   "execution_count": 12,
   "metadata": {},
   "outputs": [],
   "source": [
    "# Function to get user group details using the base API URL, session ID, and group name\n",
    "\n",
    "def get_usergroup_details(baseAPIUrl,sessionid,group_name):\n",
    "\n",
    "    URL=f'{baseAPIUrl}/public/core/v3/userGroups?q=userGroupName==\"{group_name}\"'\n",
    "    \n",
    "    # Headers to authorize the request\n",
    "    headers={\n",
    "        \"Content-Type\": \"application/json\",\n",
    "        \"Accept\": \"application/json\",\n",
    "        \"INFA-SESSION-ID\":f\"{sessionid}\"\n",
    "    }\n",
    "\n",
    "    # Sending GET request to retrieve user group details\n",
    "    response=requests.get(URL,headers=headers)\n",
    "\n",
    "    # Check if the request was successful\n",
    "    if response.status_code==200:\n",
    "        print(\"GET resquest is successful!\")\n",
    "        return response.json()\n",
    "    else:\n",
    "        print(\"GET request failed\")\n",
    "        return [response.status_code,response.request.headers,response.url,response.json()]\n",
    "    \n",
    "\n"
   ]
  },
  {
   "cell_type": "code",
   "execution_count": 13,
   "metadata": {},
   "outputs": [
    {
     "name": "stdout",
     "output_type": "stream",
     "text": [
      "GET resquest is successful!\n",
      "[{'id': '4G1re9PSNBebTdkAnKoiSU', 'orgId': 'jJJYmnncw6YgN1qEjYzLka', 'createdBy': 'nporter_emw1', 'updatedBy': 'kavm_em1_admin', 'createTime': '2023-11-23T11:08:45.000Z', 'updateTime': '2024-10-23T07:03:23.000Z', 'userGroupName': '04583190_Test_Group', 'description': '', 'roles': [{'id': '4kxmwTqKhGKlFjJSUFAAqO', 'roleName': '04583190_customer_test_role', 'description': '', 'displayName': '04583190_customer_test_role', 'displayDescription': ''}], 'users': []}]\n"
     ]
    }
   ],
   "source": [
    "usergroup_response=get_usergroup_details(base_API_Url,session_id,\"04583190_Test_Group\")\n",
    "print(usergroup_response)\n"
   ]
  },
  {
   "cell_type": "code",
   "execution_count": 14,
   "metadata": {},
   "outputs": [],
   "source": [
    "# Extract the group ID from the response\n",
    "group_id=usergroup_response[0][\"id\"]"
   ]
  },
  {
   "cell_type": "code",
   "execution_count": 15,
   "metadata": {},
   "outputs": [
    {
     "name": "stdout",
     "output_type": "stream",
     "text": [
      "4G1re9PSNBebTdkAnKoiSU\n"
     ]
    }
   ],
   "source": [
    "print(group_id)"
   ]
  },
  {
   "cell_type": "code",
   "execution_count": 16,
   "metadata": {},
   "outputs": [],
   "source": [
    "user_names=[]\n",
    "\n",
    "# Loop through users and collect their usernames\n",
    "for user in usergroup_response[0][\"users\"]:\n",
    "    user_names.append(user[\"userName\"])\n",
    "    "
   ]
  },
  {
   "cell_type": "code",
   "execution_count": 17,
   "metadata": {},
   "outputs": [
    {
     "name": "stdout",
     "output_type": "stream",
     "text": [
      "[]\n"
     ]
    }
   ],
   "source": [
    "print(user_names)\n"
   ]
  },
  {
   "cell_type": "code",
   "execution_count": 18,
   "metadata": {},
   "outputs": [],
   "source": [
    "# Function to delete users from a user group\n",
    "\n",
    "def delete_users_from_usergroup(baseAPIUrl,sessionid,groupid,users_list):\n",
    "    # URL for removing users from the group\n",
    "    URL=f'{baseAPIUrl}/public/core/v3/userGroups/{groupid}/removeUsers'\n",
    "\n",
    "    # Headers to authorize the DELETE request\n",
    "    headers={\n",
    "        \"Content-Type\": \"application/json\",\n",
    "        \"Accept\": \"application/json\",\n",
    "        \"INFA-SESSION-ID\":f\"{sessionid}\"\n",
    "    }\n",
    "\n",
    "    # Loop through each user and delete them one by one\n",
    "    for user in users_list:\n",
    "        payload={\n",
    "        \"users\" :[user]\n",
    "        }\n",
    "        # Sending PUT request to remove the user from the group\n",
    "        response=requests.put(URL,json=payload,headers=headers)\n",
    "\n",
    "        # Check if the deletion was successful\n",
    "        if response.status_code==204:\n",
    "            print(\"PUT resquest is successful!\",end=\"----- \")\n",
    "            print(f\"deleted user {user}\")\n",
    "            \n",
    "        else:\n",
    "            print(\"PU request failed\")\n",
    "            return [response.status_code,response.request.headers,response.request.body,response.url,response.json()]"
   ]
  },
  {
   "cell_type": "code",
   "execution_count": 19,
   "metadata": {},
   "outputs": [
    {
     "name": "stdout",
     "output_type": "stream",
     "text": [
      "None\n"
     ]
    }
   ],
   "source": [
    "delete_response=delete_users_from_usergroup(base_API_Url,session_id,group_id,user_names)\n",
    "\n",
    "print(delete_response)"
   ]
  }
 ],
 "metadata": {
  "kernelspec": {
   "display_name": ".venv",
   "language": "python",
   "name": "python3"
  },
  "language_info": {
   "codemirror_mode": {
    "name": "ipython",
    "version": 3
   },
   "file_extension": ".py",
   "mimetype": "text/x-python",
   "name": "python",
   "nbconvert_exporter": "python",
   "pygments_lexer": "ipython3",
   "version": "3.12.2"
  }
 },
 "nbformat": 4,
 "nbformat_minor": 2
}

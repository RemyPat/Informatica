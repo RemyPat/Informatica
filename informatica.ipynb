{
 "cells": [
  {
   "cell_type": "code",
   "execution_count": 211,
   "metadata": {},
   "outputs": [],
   "source": [
    "import requests\n",
    "\n",
    "def log_in(username_password):\n",
    "    # URL to send the POST request to\n",
    "    url = \"https://dm-em.informaticacloud.com/saas/public/core/v3/login\"\n",
    "\n",
    "    # Data you want to send in the request\n",
    "    data = username_password\n",
    "\n",
    "    # Headers (optional)\n",
    "    headers = {\n",
    "        \"Content-Type\": \"application/json\",\n",
    "        \"Accept\": \"application/json\"\n",
    "    }\n",
    "\n",
    "    # Make the POST request\n",
    "    response = requests.post(url, json=data, headers=headers)\n",
    "\n",
    "    # Print the response\n",
    "    if response.status_code == 200:\n",
    "        print(\"POST request successful!\")\n",
    "        return response.json()\n",
    "    else:\n",
    "        print(\"POST request failed.\")\n",
    "\n",
    "   \n"
   ]
  },
  {
   "cell_type": "code",
   "execution_count": 212,
   "metadata": {},
   "outputs": [],
   "source": [
    "credentials={\n",
    "        \"username\": \"\",\n",
    "        \"password\": \"\"\n",
    "    }\n"
   ]
  },
  {
   "cell_type": "code",
   "execution_count": 213,
   "metadata": {},
   "outputs": [
    {
     "name": "stdout",
     "output_type": "stream",
     "text": [
      "POST request successful!\n"
     ]
    }
   ],
   "source": [
    "response=log_in(credentials)\n"
   ]
  },
  {
   "cell_type": "code",
   "execution_count": 214,
   "metadata": {},
   "outputs": [
    {
     "name": "stdout",
     "output_type": "stream",
     "text": [
      "{'products': [{'name': 'Integration Cloud', 'baseApiUrl': 'https://emw1.dm-em.informaticacloud.com/saas'}], 'userInfo': {'sessionId': 'i85xXmL1VYZbO8I8uQhXEP', 'id': '0RIR9yAlAI0d0PknTAWWM7', 'name': 'remy_partrivk', 'parentOrgId': '52ZSTB0IDK6dXxaEQLUaQu', 'orgId': 'jJJYmnncw6YgN1qEjYzLka', 'orgName': 'Informatica-GCS-EMW1-prod', 'groups': {'Test_grp_Remy2': '0RvGPxg9cZUkYKa40mnXiC', '04583190_Test_Group': '4G1re9PSNBebTdkAnKoiSU'}, 'status': 'Active'}}\n"
     ]
    }
   ],
   "source": [
    "print(response)\n"
   ]
  },
  {
   "cell_type": "code",
   "execution_count": 215,
   "metadata": {},
   "outputs": [
    {
     "name": "stdout",
     "output_type": "stream",
     "text": [
      "https://emw1.dm-em.informaticacloud.com/saas\n"
     ]
    }
   ],
   "source": [
    "base_API_Url=response[\"products\"][0][\"baseApiUrl\"]\n",
    "print(base_API_Url)"
   ]
  },
  {
   "cell_type": "code",
   "execution_count": 216,
   "metadata": {},
   "outputs": [
    {
     "name": "stdout",
     "output_type": "stream",
     "text": [
      "i85xXmL1VYZbO8I8uQhXEP\n"
     ]
    }
   ],
   "source": [
    "session_id=response[\"userInfo\"][\"sessionId\"]\n",
    "print(session_id)"
   ]
  },
  {
   "cell_type": "code",
   "execution_count": 217,
   "metadata": {},
   "outputs": [],
   "source": [
    "def get_usergroup_details(baseAPIUrl,sessionid,group_name):\n",
    "\n",
    "    URL=f'{baseAPIUrl}/public/core/v3/userGroups?q=userGroupName==\"{group_name}\"'\n",
    "    \n",
    "\n",
    "    headers={\n",
    "        \"Content-Type\": \"application/json\",\n",
    "        \"Accept\": \"application/json\",\n",
    "        \"INFA-SESSION-ID\":f\"{sessionid}\"\n",
    "    }\n",
    "\n",
    "    response=requests.get(URL,headers=headers)\n",
    "\n",
    "    if response.status_code==200:\n",
    "        print(\"GET resquest is successful!\")\n",
    "        return response.json()\n",
    "    else:\n",
    "        print(\"GET request failed\")\n",
    "        return [response.status_code,response.request.headers,response.url,response.json()]\n",
    "    \n",
    "\n"
   ]
  },
  {
   "cell_type": "code",
   "execution_count": 218,
   "metadata": {},
   "outputs": [
    {
     "name": "stdout",
     "output_type": "stream",
     "text": [
      "GET resquest is successful!\n",
      "[{'id': '4G1re9PSNBebTdkAnKoiSU', 'orgId': 'jJJYmnncw6YgN1qEjYzLka', 'createdBy': 'nporter_emw1', 'updatedBy': 'remy_partrivk', 'createTime': '2023-11-23T11:08:45.000Z', 'updateTime': '2024-10-22T19:55:58.000Z', 'userGroupName': '04583190_Test_Group', 'description': '', 'roles': [{'id': '4kxmwTqKhGKlFjJSUFAAqO', 'roleName': '04583190_customer_test_role', 'description': '', 'displayName': '04583190_customer_test_role', 'displayDescription': ''}], 'users': [{'id': '02AiqTO6UUzf9FlN9yPreL', 'userName': 'Case04529849', 'description': ''}, {'id': '03TkpmaMUF6ky8H3BNQBwH', 'userName': 'CAI_Anonymous_jJJYmnncw6YgN1qEjYzLka', 'description': None}, {'id': '04sN3nERRV8cw519riJ1IV', 'userName': 'nporter_emw1', 'description': ''}, {'id': '07IbPJp14W4lfYCVh9uZcZ', 'userName': 'test_data_owner', 'description': ''}, {'id': '08atQwNkBylizsPGvOHqU8', 'userName': 'cghoshPS2', 'description': ''}, {'id': '09SHpd5d32hbr6Y18zs96W', 'userName': 'mauerUserOnlyCDGCACCESS', 'description': ''}, {'id': '0B6wtqvqMsfloeYpEg2TKG', 'userName': 'testuser@outlookscim.onmicrosoft.com.SAML', 'description': None}, {'id': '0BJK1nkUFYbd8NPdsk2HqG', 'userName': 'rayadav@informatica.com', 'description': ''}, {'id': '0DdwkMsnhVgcky6v4UxLM5', 'userName': 'Case_04525271', 'description': ''}, {'id': '0RIR9yAlAI0d0PknTAWWM7', 'userName': 'remy_partrivk', 'description': ''}, {'id': '0tGzLSuJcyZlP8jDFlXxku', 'userName': 'testuser@jmclaughlin31outlook.onmicrosoft.com', 'description': None}, {'id': '0vWR43fpjk0cfIMqo2XOqA', 'userName': 'rathenor_emw1', 'description': ''}, {'id': '0WevyHs9uv0cCIdfmzLMUv', 'userName': 'idmcuser2', 'description': ''}, {'id': '0Y2Z565WpM4jsydkGdTzm0', 'userName': 'tsalluzzi@informatica.com', 'description': 'tsalluzzi@informatica.com'}, {'id': '0yqnYEvF6BMiEKagc1f5UG', 'userName': 'MarkusAdminAndMarketplaceAdmin', 'description': ''}, {'id': '0yzycysupqQda4PmPFWuaF', 'userName': 'bhu_test_to_be_deleted', 'description': ''}, {'id': '10Hlr4YVlKSjP1hzZFkoKt', 'userName': 'LGM_EMEA', 'description': ''}]}]\n"
     ]
    }
   ],
   "source": [
    "usergroup_response=get_usergroup_details(base_API_Url,session_id,\"04583190_Test_Group\")\n",
    "print(usergroup_response)\n"
   ]
  },
  {
   "cell_type": "code",
   "execution_count": 219,
   "metadata": {},
   "outputs": [],
   "source": [
    "group_id=usergroup_response[0][\"id\"]"
   ]
  },
  {
   "cell_type": "code",
   "execution_count": 220,
   "metadata": {},
   "outputs": [
    {
     "name": "stdout",
     "output_type": "stream",
     "text": [
      "4G1re9PSNBebTdkAnKoiSU\n"
     ]
    }
   ],
   "source": [
    "print(group_id)"
   ]
  },
  {
   "cell_type": "code",
   "execution_count": 221,
   "metadata": {},
   "outputs": [],
   "source": [
    "user_names=[]\n",
    "user_ids=[]\n",
    "\n",
    "for user in usergroup_response[0][\"users\"]:\n",
    "    user_names.append(user[\"userName\"])\n",
    "    "
   ]
  },
  {
   "cell_type": "code",
   "execution_count": 222,
   "metadata": {},
   "outputs": [
    {
     "name": "stdout",
     "output_type": "stream",
     "text": [
      "['Case04529849', 'CAI_Anonymous_jJJYmnncw6YgN1qEjYzLka', 'nporter_emw1', 'test_data_owner', 'cghoshPS2', 'mauerUserOnlyCDGCACCESS', 'testuser@outlookscim.onmicrosoft.com.SAML', 'rayadav@informatica.com', 'Case_04525271', 'remy_partrivk', 'testuser@jmclaughlin31outlook.onmicrosoft.com', 'rathenor_emw1', 'idmcuser2', 'tsalluzzi@informatica.com', 'MarkusAdminAndMarketplaceAdmin', 'bhu_test_to_be_deleted', 'LGM_EMEA']\n"
     ]
    }
   ],
   "source": [
    "print(user_names)\n"
   ]
  },
  {
   "cell_type": "code",
   "execution_count": 223,
   "metadata": {},
   "outputs": [],
   "source": [
    "def delete_users_from_usergroup(baseAPIUrl,sessionid,groupid,users_list):\n",
    "    URL=f'{baseAPIUrl}/public/core/v3/userGroups/{groupid}/removeUsers'\n",
    "\n",
    "    headers={\n",
    "        \"Content-Type\": \"application/json\",\n",
    "        \"Accept\": \"application/json\",\n",
    "        \"INFA-SESSION-ID\":f\"{sessionid}\"\n",
    "    }\n",
    "    \n",
    "    for user in users_list:\n",
    "        payload={\n",
    "        \"users\" :[user]\n",
    "        }\n",
    "\n",
    "        response=requests.put(URL,json=payload,headers=headers)\n",
    "\n",
    "        if response.status_code==204:\n",
    "            print(\"PUT resquest is successful!\",end=\"----- \")\n",
    "            print(f\"deleted user {user}\")\n",
    "            \n",
    "        else:\n",
    "            print(\"PU request failed\")\n",
    "            return [response.status_code,response.request.headers,response.request.body,response.url,response.json()]\n",
    "        \n",
    "\n",
    "\n",
    "    \n",
    "    "
   ]
  },
  {
   "cell_type": "code",
   "execution_count": 224,
   "metadata": {},
   "outputs": [
    {
     "name": "stdout",
     "output_type": "stream",
     "text": [
      "PUT resquest is successful!----- deleted user Case04529849\n",
      "PUT resquest is successful!----- deleted user CAI_Anonymous_jJJYmnncw6YgN1qEjYzLka\n",
      "PUT resquest is successful!----- deleted user nporter_emw1\n",
      "PUT resquest is successful!----- deleted user test_data_owner\n",
      "PUT resquest is successful!----- deleted user cghoshPS2\n",
      "PUT resquest is successful!----- deleted user mauerUserOnlyCDGCACCESS\n",
      "PUT resquest is successful!----- deleted user testuser@outlookscim.onmicrosoft.com.SAML\n",
      "PUT resquest is successful!----- deleted user rayadav@informatica.com\n",
      "PUT resquest is successful!----- deleted user Case_04525271\n",
      "PUT resquest is successful!----- deleted user remy_partrivk\n",
      "PUT resquest is successful!----- deleted user testuser@jmclaughlin31outlook.onmicrosoft.com\n",
      "PUT resquest is successful!----- deleted user rathenor_emw1\n",
      "PUT resquest is successful!----- deleted user idmcuser2\n",
      "PUT resquest is successful!----- deleted user tsalluzzi@informatica.com\n",
      "PUT resquest is successful!----- deleted user MarkusAdminAndMarketplaceAdmin\n",
      "PUT resquest is successful!----- deleted user bhu_test_to_be_deleted\n",
      "PUT resquest is successful!----- deleted user LGM_EMEA\n",
      "None\n"
     ]
    }
   ],
   "source": [
    "delete_response=delete_users_from_usergroup(base_API_Url,session_id,group_id,user_names)\n",
    "\n",
    "print(delete_response)"
   ]
  }
 ],
 "metadata": {
  "kernelspec": {
   "display_name": ".venv",
   "language": "python",
   "name": "python3"
  },
  "language_info": {
   "codemirror_mode": {
    "name": "ipython",
    "version": 3
   },
   "file_extension": ".py",
   "mimetype": "text/x-python",
   "name": "python",
   "nbconvert_exporter": "python",
   "pygments_lexer": "ipython3",
   "version": "3.12.2"
  }
 },
 "nbformat": 4,
 "nbformat_minor": 2
}
